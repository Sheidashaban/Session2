{
 "cells": [
  {
   "cell_type": "code",
   "execution_count": 1,
   "id": "a3c3cb5e-6314-46be-8ee2-2b20265910ec",
   "metadata": {
    "tags": []
   },
   "outputs": [],
   "source": [
    "A= \"Sheida is a bol bol\""
   ]
  },
  {
   "cell_type": "code",
   "execution_count": 3,
   "id": "6367bf9e-6827-4ad8-8cb3-01d63a5a6902",
   "metadata": {
    "tags": []
   },
   "outputs": [
    {
     "name": "stdout",
     "output_type": "stream",
     "text": [
      "19\n"
     ]
    }
   ],
   "source": [
    "print(len(A))"
   ]
  },
  {
   "cell_type": "code",
   "execution_count": 6,
   "id": "058a1916-6379-4e5f-a133-a812716cd116",
   "metadata": {
    "tags": []
   },
   "outputs": [
    {
     "data": {
      "text/plain": [
       "'d'"
      ]
     },
     "execution_count": 6,
     "metadata": {},
     "output_type": "execute_result"
    }
   ],
   "source": [
    "A[4]"
   ]
  },
  {
   "cell_type": "code",
   "execution_count": 7,
   "id": "42cd81bb-f0d9-424c-a69f-192391135579",
   "metadata": {
    "tags": []
   },
   "outputs": [
    {
     "data": {
      "text/plain": [
       "'Shei'"
      ]
     },
     "execution_count": 7,
     "metadata": {},
     "output_type": "execute_result"
    }
   ],
   "source": [
    "A[0:4]"
   ]
  },
  {
   "cell_type": "code",
   "execution_count": 8,
   "id": "39d2e056-d6bd-42c1-b1b6-951c46d695ec",
   "metadata": {
    "tags": []
   },
   "outputs": [
    {
     "data": {
      "text/plain": [
       "'S'"
      ]
     },
     "execution_count": 8,
     "metadata": {},
     "output_type": "execute_result"
    }
   ],
   "source": [
    "A[0]"
   ]
  },
  {
   "cell_type": "code",
   "execution_count": 9,
   "id": "15dbeccf-daee-40a0-8d92-6185e6a6c684",
   "metadata": {
    "tags": []
   },
   "outputs": [
    {
     "data": {
      "text/plain": [
       "'h'"
      ]
     },
     "execution_count": 9,
     "metadata": {},
     "output_type": "execute_result"
    }
   ],
   "source": [
    "A[-18]"
   ]
  },
  {
   "cell_type": "code",
   "execution_count": 10,
   "id": "45b6bdd4-46ec-4f9c-8e96-9342a1cb223a",
   "metadata": {
    "tags": []
   },
   "outputs": [
    {
     "data": {
      "text/plain": [
       "'o'"
      ]
     },
     "execution_count": 10,
     "metadata": {},
     "output_type": "execute_result"
    }
   ],
   "source": [
    "A[-2]"
   ]
  },
  {
   "cell_type": "code",
   "execution_count": 12,
   "id": "e7836f83-75a4-4385-950f-582111da36f4",
   "metadata": {
    "tags": []
   },
   "outputs": [],
   "source": [
    "#Sheida\n",
    "#0 1 2 3 4  5 6 \n",
    "#-6 -5 -4 -3 -2 -1 "
   ]
  },
  {
   "cell_type": "code",
   "execution_count": 13,
   "id": "1681d30c-5de5-4dd5-8ae7-078fbc834595",
   "metadata": {
    "tags": []
   },
   "outputs": [],
   "source": [
    "B= \"Sheida\""
   ]
  },
  {
   "cell_type": "code",
   "execution_count": 17,
   "id": "f4afd728-3809-4403-b913-f1e6bd424c71",
   "metadata": {
    "tags": []
   },
   "outputs": [
    {
     "data": {
      "text/plain": [
       "'S'"
      ]
     },
     "execution_count": 17,
     "metadata": {},
     "output_type": "execute_result"
    }
   ],
   "source": [
    "B[-6]"
   ]
  },
  {
   "cell_type": "code",
   "execution_count": null,
   "id": "4fce6837-2d2c-4af1-b947-166878e2b66b",
   "metadata": {},
   "outputs": [],
   "source": []
  }
 ],
 "metadata": {
  "kernelspec": {
   "display_name": "Python 3 (ipykernel)",
   "language": "python",
   "name": "python3"
  },
  "language_info": {
   "codemirror_mode": {
    "name": "ipython",
    "version": 3
   },
   "file_extension": ".py",
   "mimetype": "text/x-python",
   "name": "python",
   "nbconvert_exporter": "python",
   "pygments_lexer": "ipython3",
   "version": "3.11.5"
  }
 },
 "nbformat": 4,
 "nbformat_minor": 5
}
